{
 "cells": [
  {
   "cell_type": "code",
   "execution_count": 1,
   "metadata": {},
   "outputs": [],
   "source": [
    "from copy import deepcopy\n",
    "from daty.wikidata import Wikidata\n",
    "from itertools import chain\n",
    "from pprint import pprint\n",
    "from random import randint\n",
    "wikidata = Wikidata()"
   ]
  },
  {
   "cell_type": "markdown",
   "metadata": {},
   "source": [
    "## Tools"
   ]
  },
  {
   "cell_type": "code",
   "execution_count": 2,
   "metadata": {},
   "outputs": [],
   "source": [
    "def pick_entities(N=100, random=False, verbose=False):\n",
    "    \"\"\"Pick lots of entities\n",
    "    \n",
    "        Args:\n",
    "            N (int): number of items;\n",
    "            random (bool): random or sequential;\n",
    "            verbose (bool): extendend output.\n",
    "        Returns:\n",
    "            (list) entities.\n",
    "    \"\"\"\n",
    "    f = lambda x: randint(1,50000000) if random else x\n",
    "    entities = []\n",
    "    for i in range(1,N):\n",
    "        try:\n",
    "            entities.append(wikidata.download(['Q', 'P', 'L'][randint(0,1)] + str(f(i))))\n",
    "        except Exception as e:\n",
    "            if verbose:\n",
    "                print(e)\n",
    "    return entities\n",
    "\n",
    "def dict_list_union_keys(dict_list):\n",
    "    keys = set()\n",
    "    for d in dict_list:\n",
    "        keys = keys.union(set(d.keys()))\n",
    "    return keys\n",
    "\n",
    "def dict_list_keys(dict_list, verbose=True):\n",
    "    \"\"\"Returns keys of dictionary list\"\"\"\n",
    "    all_keys = dict_list_union_keys(dict_list)\n",
    "    common_keys = deepcopy(all_keys)\n",
    "    for d in dict_list:\n",
    "        common_keys = common_keys.intersection(set(d.keys()))\n",
    "    diff_keys = all_keys.difference(common_keys)\n",
    "    if verbose:\n",
    "        print(\"\".join([\"Union:\\t\\t\", str(all_keys), \"\\n\",\n",
    "                       \"Intersection:\\t\", str(common_keys), \"\\n\",\n",
    "                       \"Difference\\t\", str(diff_keys)]))\n",
    "    return all_keys, common_keys, diff_keys"
   ]
  },
  {
   "cell_type": "markdown",
   "metadata": {},
   "source": [
    "# Entity"
   ]
  },
  {
   "cell_type": "code",
   "execution_count": 3,
   "metadata": {
    "scrolled": false
   },
   "outputs": [
    {
     "name": "stdout",
     "output_type": "stream",
     "text": [
      "dowloading P1\n",
      "Page [[wikidata:Property:P1]] doesn't exist.\n",
      "dowloading P3\n",
      "Page [[wikidata:Property:P3]] doesn't exist.\n",
      "dowloading P4\n",
      "Page [[wikidata:Property:P4]] doesn't exist.\n",
      "dowloading Q6\n",
      "Page [[wikidata:Q6]] doesn't exist.\n",
      "dowloading P7\n",
      "Page [[wikidata:Property:P7]] doesn't exist.\n",
      "dowloading P8\n",
      "Page [[wikidata:Property:P8]] doesn't exist.\n",
      "dowloading P9\n",
      "Page [[wikidata:Property:P9]] doesn't exist.\n",
      "dowloading P10\n",
      "dowloading P11\n",
      "Page [[wikidata:Property:P11]] doesn't exist.\n",
      "dowloading P12\n",
      "Page [[wikidata:Property:P12]] doesn't exist.\n",
      "dowloading Q13\n",
      "dowloading Q14\n",
      "Page [[wikidata:Q14]] doesn't exist.\n",
      "dowloading Q18\n",
      "dowloading Q22\n",
      "dowloading Q23\n",
      "dowloading P25\n",
      "dowloading Q26\n",
      "dowloading P29\n",
      "Page [[wikidata:Property:P29]] doesn't exist.\n",
      "dowloading P30\n",
      "dowloading P32\n",
      "Page [[wikidata:Property:P32]] doesn't exist.\n",
      "dowloading Q35\n",
      "dowloading Q38\n",
      "dowloading Q41\n",
      "dowloading Q42\n",
      "dowloading Q43\n",
      "dowloading P44\n",
      "Page [[wikidata:Property:P44]] doesn't exist.\n",
      "dowloading P45\n",
      "Page [[wikidata:Property:P45]] doesn't exist.\n",
      "dowloading Q46\n",
      "dowloading P47\n",
      "dowloading P48\n",
      "Page [[wikidata:Property:P48]] doesn't exist.\n",
      "dowloading P49\n",
      "Page [[wikidata:Property:P49]] doesn't exist.\n",
      "dowloading P50\n",
      "dowloading Q51\n",
      "dowloading Q52\n",
      "dowloading Q53\n",
      "dowloading Q54\n",
      "dowloading P55\n",
      "Page [[wikidata:Property:P55]] doesn't exist.\n",
      "dowloading Q56\n",
      "dowloading P58\n",
      "dowloading Q59\n",
      "dowloading P60\n",
      "Page [[wikidata:Property:P60]] doesn't exist.\n",
      "dowloading P61\n",
      "dowloading P62\n",
      "Page [[wikidata:Property:P62]] doesn't exist.\n",
      "dowloading Q63\n",
      "Page [[wikidata:Q63]] doesn't exist.\n",
      "dowloading Q65\n",
      "dowloading P67\n",
      "Page [[wikidata:Property:P67]] doesn't exist.\n",
      "dowloading P68\n",
      "Page [[wikidata:Property:P68]] doesn't exist.\n",
      "dowloading P69\n",
      "dowloading Q72\n",
      "dowloading P73\n",
      "Page [[wikidata:Property:P73]] doesn't exist.\n",
      "dowloading Q74\n",
      "dowloading P75\n",
      "Page [[wikidata:Property:P75]] doesn't exist.\n",
      "dowloading Q76\n",
      "dowloading Q77\n",
      "dowloading Q79\n",
      "dowloading P80\n",
      "Page [[wikidata:Property:P80]] doesn't exist.\n",
      "dowloading P81\n",
      "dowloading P82\n",
      "Page [[wikidata:Property:P82]] doesn't exist.\n",
      "dowloading P83\n",
      "Page [[wikidata:Property:P83]] doesn't exist.\n",
      "dowloading P84\n",
      "dowloading P87\n",
      "dowloading P89\n",
      "Page [[wikidata:Property:P89]] doesn't exist.\n",
      "dowloading P93\n",
      "Page [[wikidata:Property:P93]] doesn't exist.\n",
      "dowloading P95\n",
      "Page [[wikidata:Property:P95]] doesn't exist.\n",
      "dowloading Q96\n",
      "dowloading Q97\n",
      "dowloading P99\n",
      "Page [[wikidata:Property:P99]] doesn't exist.\n",
      "Campione: 99\n",
      "Union:\t\t{'claims', 'sitelinks', 'URI', 'datatype', 'aliases', 'labels', 'descriptions'}\n",
      "Intersection:\t{'URI'}\n",
      "Difference\t{'datatype', 'labels', 'claims', 'sitelinks', 'aliases', 'descriptions'}\n"
     ]
    }
   ],
   "source": [
    "entities = pick_entities(100)\n",
    "print(\"Campione:\", len(entities))\n",
    "keys = dict_list_keys(entities)"
   ]
  },
  {
   "cell_type": "markdown",
   "metadata": {},
   "source": [
    "## Claim\n",
    "\n",
    "Let's group claims (`dict`) from `entities`; claims of an entity are grouped by property; claims have to be converted into JSONs to be read:"
   ]
  },
  {
   "cell_type": "code",
   "execution_count": 4,
   "metadata": {},
   "outputs": [
    {
     "name": "stdout",
     "output_type": "stream",
     "text": [
      "Campione: 12998\n",
      "Union:\t\t{'rank', 'qualifiers-order', 'qualifiers', 'type', 'mainsnak', 'id', 'references'}\n",
      "Intersection:\t{'type', 'mainsnak', 'id', 'rank'}\n",
      "Difference\t{'references', 'qualifiers-order', 'qualifiers'}\n"
     ]
    }
   ],
   "source": [
    "entities_claims = []\n",
    "for e in (e for e in entities if 'claims' in e):\n",
    "    for P in e['claims']:\n",
    "        claims = (c.toJSON() for c in e['claims'][P])\n",
    "        entities_claims.append(claims)\n",
    "entities_claims = list(chain.from_iterable(entities_claims))\n",
    "print(\"Campione:\", len(entities_claims))\n",
    "keys = dict_list_keys(entities_claims)"
   ]
  },
  {
   "cell_type": "markdown",
   "metadata": {},
   "source": [
    "### Type"
   ]
  },
  {
   "cell_type": "code",
   "execution_count": 5,
   "metadata": {
    "scrolled": true
   },
   "outputs": [
    {
     "name": "stdout",
     "output_type": "stream",
     "text": [
      "Campione:\t 12998\n",
      "Valori:\t\t {'statement'}\n"
     ]
    }
   ],
   "source": [
    "types = [c['type'] for c in entities_claims]\n",
    "print(\"Campione:\\t\", len(types))\n",
    "print(\"Valori:\\t\\t\", set(types))"
   ]
  },
  {
   "cell_type": "markdown",
   "metadata": {},
   "source": [
    "### Mainsnak\n",
    "Let's group claims' mainsnaks (`dict`)."
   ]
  },
  {
   "cell_type": "code",
   "execution_count": 6,
   "metadata": {},
   "outputs": [
    {
     "name": "stdout",
     "output_type": "stream",
     "text": [
      "Campione: 12998\n",
      "Union:\t\t{'datavalue', 'property', 'datatype', 'snaktype'}\n",
      "Intersection:\t{'property', 'snaktype'}\n",
      "Difference\t{'datavalue', 'datatype'}\n"
     ]
    }
   ],
   "source": [
    "mainsnaks = [c['mainsnak'] for c in entities_claims]\n",
    "print(\"Campione:\", len(mainsnaks))\n",
    "keys = dict_list_keys(mainsnaks)"
   ]
  },
  {
   "cell_type": "markdown",
   "metadata": {},
   "source": [
    "#### Snaktype"
   ]
  },
  {
   "cell_type": "code",
   "execution_count": 7,
   "metadata": {},
   "outputs": [
    {
     "name": "stdout",
     "output_type": "stream",
     "text": [
      "{'somevalue', 'novalue', 'value'}\n"
     ]
    }
   ],
   "source": [
    "snaktypes = set(snak['snaktype'] for snak in mainsnaks)\n",
    "print(snaktypes)"
   ]
  },
  {
   "cell_type": "markdown",
   "metadata": {},
   "source": [
    "#### Property"
   ]
  },
  {
   "cell_type": "code",
   "execution_count": 8,
   "metadata": {},
   "outputs": [
    {
     "name": "stdout",
     "output_type": "stream",
     "text": [
      "Campione: 637\n",
      "Values: [P1,...]\n"
     ]
    }
   ],
   "source": [
    "properties = set(snak['property'] for snak in mainsnaks)\n",
    "print(\"Campione:\", len(properties))\n",
    "print(\"Values: [P1,...]\")"
   ]
  },
  {
   "cell_type": "markdown",
   "metadata": {},
   "source": [
    "#### Datatype"
   ]
  },
  {
   "cell_type": "code",
   "execution_count": 9,
   "metadata": {},
   "outputs": [
    {
     "name": "stdout",
     "output_type": "stream",
     "text": [
      "{'commonsMedia',\n",
      " 'external-id',\n",
      " 'geo-shape',\n",
      " 'globe-coordinate',\n",
      " 'monolingualtext',\n",
      " 'quantity',\n",
      " 'string',\n",
      " 'time',\n",
      " 'url',\n",
      " 'wikibase-item',\n",
      " 'wikibase-property'}\n"
     ]
    }
   ],
   "source": [
    "datatypes = set(s['datatype'] for s in mainsnaks if 'datatype' in s.keys())\n",
    "pprint(datatypes)"
   ]
  },
  {
   "cell_type": "markdown",
   "metadata": {},
   "source": [
    "##### wikibase-property"
   ]
  },
  {
   "cell_type": "code",
   "execution_count": 12,
   "metadata": {
    "scrolled": true
   },
   "outputs": [],
   "source": [
    "def set_datatype(datatype):\n",
    "    return [s for s in mainsnaks if ('datatype' in s.keys()) and\n",
    "                                      (s['datatype'] == datatype)]\n",
    "#print()\n",
    "#print(\"Snaks with wikibase-property as datatype\")\n",
    "#print(\"Campione:\", len(snak_dt_wp))\n",
    "#keys = dict_list_keys(snak_dt_wp)\n",
    "\n",
    "#print(set(s['datavalue']['value']['entity-type'] for s in snak_dt_wp))\n",
    "#keys = dict_list_keys([s['datavalue']['value']['entity-type'] for s in snak_dt_wp])\n",
    "#print(set(s['datavalue'] for s in snak_dt_wp))\n",
    "#pprint(datatypes)"
   ]
  },
  {
   "cell_type": "markdown",
   "metadata": {},
   "source": [
    "#### Datavalue"
   ]
  },
  {
   "cell_type": "code",
   "execution_count": 13,
   "metadata": {},
   "outputs": [
    {
     "name": "stdout",
     "output_type": "stream",
     "text": [
      "Campione: 12971\n",
      "Union:\t\t{'type', 'value'}\n",
      "Intersection:\t{'type', 'value'}\n",
      "Difference\tset()\n"
     ]
    }
   ],
   "source": [
    "datavalues = [s['datavalue'] for s in mainsnaks if 'datavalue' in s.keys()]\n",
    "print(\"Campione:\", len(datavalues))\n",
    "keys = dict_list_keys(datavalues)"
   ]
  },
  {
   "cell_type": "markdown",
   "metadata": {},
   "source": [
    "##### type"
   ]
  },
  {
   "cell_type": "code",
   "execution_count": 14,
   "metadata": {},
   "outputs": [
    {
     "name": "stdout",
     "output_type": "stream",
     "text": [
      "Campione: 6\n",
      "{'quantity', 'string', 'globecoordinate', 'time', 'monolingualtext', 'wikibase-entityid'}\n"
     ]
    }
   ],
   "source": [
    "types = set(d['type'] for d in datavalues)\n",
    "print(\"Campione:\", len(types))\n",
    "print(types)"
   ]
  },
  {
   "cell_type": "markdown",
   "metadata": {},
   "source": [
    "##### Value\n",
    "###### wikibase-entityid"
   ]
  },
  {
   "cell_type": "code",
   "execution_count": 15,
   "metadata": {},
   "outputs": [
    {
     "name": "stdout",
     "output_type": "stream",
     "text": [
      "Campione: 6013\n",
      "Union:\t\t{'entity-type', 'numeric-id'}\n",
      "Intersection:\t{'entity-type', 'numeric-id'}\n",
      "Difference\tset()\n"
     ]
    }
   ],
   "source": [
    "values = [d['value'] for d in datavalues if d['type'] == 'wikibase-entityid']\n",
    "print(\"Campione:\", len(values))\n",
    "keys = dict_list_keys(values)"
   ]
  },
  {
   "cell_type": "markdown",
   "metadata": {},
   "source": [
    "###### entity-type"
   ]
  },
  {
   "cell_type": "code",
   "execution_count": 16,
   "metadata": {},
   "outputs": [
    {
     "name": "stdout",
     "output_type": "stream",
     "text": [
      "Campione: 6013\n",
      "{'property', 'item'}\n"
     ]
    }
   ],
   "source": [
    "entity_types = [value['entity-type'] for value in values]\n",
    "print(\"Campione:\", len(entity_types))\n",
    "print(set(entity_types))"
   ]
  },
  {
   "cell_type": "code",
   "execution_count": 17,
   "metadata": {},
   "outputs": [
    {
     "name": "stdout",
     "output_type": "stream",
     "text": [
      "Campione: 0\n",
      "Union:\t\tset()\n",
      "Intersection:\tset()\n",
      "Difference\tset()\n"
     ]
    }
   ],
   "source": [
    "values = [d['value'] for d in datavalues if d['type'] == 'wikibase']\n",
    "print(\"Campione:\", len(values))\n",
    "keys = dict_list_keys(values)"
   ]
  },
  {
   "cell_type": "markdown",
   "metadata": {},
   "source": [
    "### References\n",
    "Let's group claims' mainsnaks (`dict`)."
   ]
  },
  {
   "cell_type": "code",
   "execution_count": 18,
   "metadata": {},
   "outputs": [
    {
     "name": "stdout",
     "output_type": "stream",
     "text": [
      "Campione: 4760\n"
     ]
    },
    {
     "ename": "AttributeError",
     "evalue": "'list' object has no attribute 'keys'",
     "output_type": "error",
     "traceback": [
      "\u001b[0;31m---------------------------------------------------------------------------\u001b[0m",
      "\u001b[0;31mAttributeError\u001b[0m                            Traceback (most recent call last)",
      "\u001b[0;32m<ipython-input-18-44990e985695>\u001b[0m in \u001b[0;36m<module>\u001b[0;34m\u001b[0m\n\u001b[1;32m      1\u001b[0m \u001b[0mreferences\u001b[0m \u001b[0;34m=\u001b[0m \u001b[0;34m[\u001b[0m\u001b[0mc\u001b[0m\u001b[0;34m[\u001b[0m\u001b[0;34m'references'\u001b[0m\u001b[0;34m]\u001b[0m \u001b[0;32mfor\u001b[0m \u001b[0mc\u001b[0m \u001b[0;32min\u001b[0m \u001b[0mentities_claims\u001b[0m \u001b[0;32mif\u001b[0m \u001b[0;34m'references'\u001b[0m \u001b[0;32min\u001b[0m \u001b[0mc\u001b[0m\u001b[0;34m]\u001b[0m\u001b[0;34m\u001b[0m\u001b[0;34m\u001b[0m\u001b[0m\n\u001b[1;32m      2\u001b[0m \u001b[0mprint\u001b[0m\u001b[0;34m(\u001b[0m\u001b[0;34m\"Campione:\"\u001b[0m\u001b[0;34m,\u001b[0m \u001b[0mlen\u001b[0m\u001b[0;34m(\u001b[0m\u001b[0mreferences\u001b[0m\u001b[0;34m)\u001b[0m\u001b[0;34m)\u001b[0m\u001b[0;34m\u001b[0m\u001b[0;34m\u001b[0m\u001b[0m\n\u001b[0;32m----> 3\u001b[0;31m \u001b[0mkeys\u001b[0m \u001b[0;34m=\u001b[0m \u001b[0mdict_list_keys\u001b[0m\u001b[0;34m(\u001b[0m\u001b[0mreferences\u001b[0m\u001b[0;34m)\u001b[0m\u001b[0;34m\u001b[0m\u001b[0;34m\u001b[0m\u001b[0m\n\u001b[0m",
      "\u001b[0;32m<ipython-input-2-f06fa617cc86>\u001b[0m in \u001b[0;36mdict_list_keys\u001b[0;34m(dict_list, verbose)\u001b[0m\n\u001b[1;32m     27\u001b[0m \u001b[0;32mdef\u001b[0m \u001b[0mdict_list_keys\u001b[0m\u001b[0;34m(\u001b[0m\u001b[0mdict_list\u001b[0m\u001b[0;34m,\u001b[0m \u001b[0mverbose\u001b[0m\u001b[0;34m=\u001b[0m\u001b[0;32mTrue\u001b[0m\u001b[0;34m)\u001b[0m\u001b[0;34m:\u001b[0m\u001b[0;34m\u001b[0m\u001b[0;34m\u001b[0m\u001b[0m\n\u001b[1;32m     28\u001b[0m     \u001b[0;34m\"\"\"Returns keys of dictionary list\"\"\"\u001b[0m\u001b[0;34m\u001b[0m\u001b[0;34m\u001b[0m\u001b[0m\n\u001b[0;32m---> 29\u001b[0;31m     \u001b[0mall_keys\u001b[0m \u001b[0;34m=\u001b[0m \u001b[0mdict_list_union_keys\u001b[0m\u001b[0;34m(\u001b[0m\u001b[0mdict_list\u001b[0m\u001b[0;34m)\u001b[0m\u001b[0;34m\u001b[0m\u001b[0;34m\u001b[0m\u001b[0m\n\u001b[0m\u001b[1;32m     30\u001b[0m     \u001b[0mcommon_keys\u001b[0m \u001b[0;34m=\u001b[0m \u001b[0mdeepcopy\u001b[0m\u001b[0;34m(\u001b[0m\u001b[0mall_keys\u001b[0m\u001b[0;34m)\u001b[0m\u001b[0;34m\u001b[0m\u001b[0;34m\u001b[0m\u001b[0m\n\u001b[1;32m     31\u001b[0m     \u001b[0;32mfor\u001b[0m \u001b[0md\u001b[0m \u001b[0;32min\u001b[0m \u001b[0mdict_list\u001b[0m\u001b[0;34m:\u001b[0m\u001b[0;34m\u001b[0m\u001b[0;34m\u001b[0m\u001b[0m\n",
      "\u001b[0;32m<ipython-input-2-f06fa617cc86>\u001b[0m in \u001b[0;36mdict_list_union_keys\u001b[0;34m(dict_list)\u001b[0m\n\u001b[1;32m     22\u001b[0m     \u001b[0mkeys\u001b[0m \u001b[0;34m=\u001b[0m \u001b[0mset\u001b[0m\u001b[0;34m(\u001b[0m\u001b[0;34m)\u001b[0m\u001b[0;34m\u001b[0m\u001b[0;34m\u001b[0m\u001b[0m\n\u001b[1;32m     23\u001b[0m     \u001b[0;32mfor\u001b[0m \u001b[0md\u001b[0m \u001b[0;32min\u001b[0m \u001b[0mdict_list\u001b[0m\u001b[0;34m:\u001b[0m\u001b[0;34m\u001b[0m\u001b[0;34m\u001b[0m\u001b[0m\n\u001b[0;32m---> 24\u001b[0;31m         \u001b[0mkeys\u001b[0m \u001b[0;34m=\u001b[0m \u001b[0mkeys\u001b[0m\u001b[0;34m.\u001b[0m\u001b[0munion\u001b[0m\u001b[0;34m(\u001b[0m\u001b[0mset\u001b[0m\u001b[0;34m(\u001b[0m\u001b[0md\u001b[0m\u001b[0;34m.\u001b[0m\u001b[0mkeys\u001b[0m\u001b[0;34m(\u001b[0m\u001b[0;34m)\u001b[0m\u001b[0;34m)\u001b[0m\u001b[0;34m)\u001b[0m\u001b[0;34m\u001b[0m\u001b[0;34m\u001b[0m\u001b[0m\n\u001b[0m\u001b[1;32m     25\u001b[0m     \u001b[0;32mreturn\u001b[0m \u001b[0mkeys\u001b[0m\u001b[0;34m\u001b[0m\u001b[0;34m\u001b[0m\u001b[0m\n\u001b[1;32m     26\u001b[0m \u001b[0;34m\u001b[0m\u001b[0m\n",
      "\u001b[0;31mAttributeError\u001b[0m: 'list' object has no attribute 'keys'"
     ]
    }
   ],
   "source": [
    "references = [c['references'] for c in entities_claims if 'references' in c]\n",
    "print(\"Campione:\", len(references))\n",
    "#keys = dict_list_keys(references)\n",
    "pprint(references[0]['references'])"
   ]
  },
  {
   "cell_type": "code",
   "execution_count": null,
   "metadata": {},
   "outputs": [],
   "source": []
  }
 ],
 "metadata": {
  "kernelspec": {
   "display_name": "Python 3",
   "language": "python",
   "name": "python3"
  },
  "language_info": {
   "codemirror_mode": {
    "name": "ipython",
    "version": 3
   },
   "file_extension": ".py",
   "mimetype": "text/x-python",
   "name": "python",
   "nbconvert_exporter": "python",
   "pygments_lexer": "ipython3",
   "version": "3.7.2"
  }
 },
 "nbformat": 4,
 "nbformat_minor": 2
}
