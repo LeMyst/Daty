{
 "cells": [
  {
   "cell_type": "code",
   "execution_count": 1,
   "metadata": {},
   "outputs": [],
   "source": [
    "from copy import deepcopy\n",
    "from daty.wikidata import Wikidata\n",
    "from itertools import chain\n",
    "from pprint import pprint\n",
    "from random import randint\n",
    "wikidata = Wikidata()"
   ]
  },
  {
   "cell_type": "markdown",
   "metadata": {},
   "source": [
    "## Tools"
   ]
  },
  {
   "cell_type": "code",
   "execution_count": 2,
   "metadata": {},
   "outputs": [],
   "source": [
    "def pick_entities(N=100, random=False, verbose=False):\n",
    "    \"\"\"Pick lots of entities\n",
    "    \n",
    "        Args:\n",
    "            N (int): number of items;\n",
    "            random (bool): random or sequential;\n",
    "            verbose (bool): extendend output.\n",
    "        Returns:\n",
    "            (list) entities.\n",
    "    \"\"\"\n",
    "    f = lambda x: randint(1,50000000) if random else x\n",
    "    entities = []\n",
    "    for i in range(1,N):\n",
    "        try:\n",
    "            entities.append(wikidata.download(['Q', 'P', 'L'][randint(0,1)] + str(f(i))))\n",
    "        except Exception as e:\n",
    "            if verbose:\n",
    "                print(e)\n",
    "    return entities\n",
    "\n",
    "def dict_list_union_keys(dict_list):\n",
    "    keys = set()\n",
    "    for d in dict_list:\n",
    "        keys = keys.union(set(d.keys()))\n",
    "    return keys\n",
    "\n",
    "def dict_list_keys(dict_list, verbose=True):\n",
    "    \"\"\"Returns keys of dictionary list\"\"\"\n",
    "    all_keys = dict_list_union_keys(dict_list)\n",
    "    common_keys = deepcopy(all_keys)\n",
    "    for d in dict_list:\n",
    "        common_keys = common_keys.intersection(set(d.keys()))\n",
    "    diff_keys = all_keys.difference(common_keys)\n",
    "    if verbose:\n",
    "        print(\"\".join([\"Union:\\t\\t\", str(all_keys), \"\\n\",\n",
    "                       \"Intersection:\\t\", str(common_keys), \"\\n\",\n",
    "                       \"Difference\\t\", str(diff_keys)]))\n",
    "    return all_keys, common_keys, diff_keys"
   ]
  },
  {
   "cell_type": "markdown",
   "metadata": {},
   "source": [
    "# Entity"
   ]
  },
  {
   "cell_type": "code",
   "execution_count": 3,
   "metadata": {
    "scrolled": false
   },
   "outputs": [
    {
     "name": "stdout",
     "output_type": "stream",
     "text": [
      "Campione: 63\n",
      "Union:\t\t{'labels', 'aliases', 'claims', 'datatype', 'sitelinks', 'descriptions'}\n",
      "Intersection:\t{'labels', 'aliases', 'descriptions', 'claims'}\n",
      "Difference\t{'sitelinks', 'datatype'}\n"
     ]
    }
   ],
   "source": [
    "entities = pick_entities(100)\n",
    "print(\"Campione:\", len(entities))\n",
    "keys = dict_list_keys(entities)"
   ]
  },
  {
   "cell_type": "markdown",
   "metadata": {},
   "source": [
    "## Claim\n",
    "\n",
    "Let's group claims (`dict`) from `entities`; claims of an entity are grouped by property; claims have to be converted into JSONs to be read:"
   ]
  },
  {
   "cell_type": "code",
   "execution_count": 4,
   "metadata": {},
   "outputs": [
    {
     "name": "stdout",
     "output_type": "stream",
     "text": [
      "Campione: 11511\n",
      "Union:\t\t{'references', 'rank', 'mainsnak', 'type', 'qualifiers', 'id', 'qualifiers-order'}\n",
      "Intersection:\t{'mainsnak', 'rank', 'id', 'type'}\n",
      "Difference\t{'references', 'qualifiers', 'qualifiers-order'}\n"
     ]
    }
   ],
   "source": [
    "entities_claims = []\n",
    "for e in entities:\n",
    "    for P in e['claims'].keys():\n",
    "        claims = (c.toJSON() for c in e['claims'][P])\n",
    "        entities_claims.append(claims)\n",
    "entities_claims = list(chain.from_iterable(entities_claims))\n",
    "print(\"Campione:\", len(entities_claims))\n",
    "keys = dict_list_keys(entities_claims)"
   ]
  },
  {
   "cell_type": "markdown",
   "metadata": {},
   "source": [
    "### Type"
   ]
  },
  {
   "cell_type": "code",
   "execution_count": 5,
   "metadata": {
    "scrolled": true
   },
   "outputs": [
    {
     "name": "stdout",
     "output_type": "stream",
     "text": [
      "Campione:\t 11511\n",
      "Valori:\t\t {'statement'}\n"
     ]
    }
   ],
   "source": [
    "types = [c['type'] for c in entities_claims]\n",
    "print(\"Campione:\\t\", len(types))\n",
    "print(\"Valori:\\t\\t\", set(types))"
   ]
  },
  {
   "cell_type": "markdown",
   "metadata": {},
   "source": [
    "### Mainsnak\n",
    "Let's group claims' mainsnaks (`dict`)."
   ]
  },
  {
   "cell_type": "code",
   "execution_count": 6,
   "metadata": {},
   "outputs": [
    {
     "name": "stdout",
     "output_type": "stream",
     "text": [
      "Campione: 11511\n",
      "Union:\t\t{'datatype', 'snaktype', 'property', 'datavalue'}\n",
      "Intersection:\t{'property', 'snaktype'}\n",
      "Difference\t{'datatype', 'datavalue'}\n"
     ]
    }
   ],
   "source": [
    "mainsnaks = [c['mainsnak'] for c in entities_claims]\n",
    "print(\"Campione:\", len(mainsnaks))\n",
    "keys = dict_list_keys(mainsnaks)"
   ]
  },
  {
   "cell_type": "markdown",
   "metadata": {},
   "source": [
    "#### Snaktype"
   ]
  },
  {
   "cell_type": "code",
   "execution_count": 7,
   "metadata": {},
   "outputs": [
    {
     "name": "stdout",
     "output_type": "stream",
     "text": [
      "{'value', 'somevalue', 'novalue'}\n"
     ]
    }
   ],
   "source": [
    "snaktypes = set(snak['snaktype'] for snak in mainsnaks)\n",
    "print(snaktypes)"
   ]
  },
  {
   "cell_type": "markdown",
   "metadata": {},
   "source": [
    "#### Property"
   ]
  },
  {
   "cell_type": "code",
   "execution_count": 13,
   "metadata": {},
   "outputs": [
    {
     "name": "stdout",
     "output_type": "stream",
     "text": [
      "Campione: 636\n",
      "Values: [P1,...]\n"
     ]
    }
   ],
   "source": [
    "properties = set(snak['property'] for snak in mainsnaks)\n",
    "print(\"Campione:\", len(properties))\n",
    "print(\"Values: [P1,...]\")"
   ]
  },
  {
   "cell_type": "markdown",
   "metadata": {},
   "source": [
    "#### Datatype"
   ]
  },
  {
   "cell_type": "code",
   "execution_count": 10,
   "metadata": {},
   "outputs": [
    {
     "name": "stdout",
     "output_type": "stream",
     "text": [
      "{'commonsMedia',\n",
      " 'external-id',\n",
      " 'geo-shape',\n",
      " 'globe-coordinate',\n",
      " 'monolingualtext',\n",
      " 'quantity',\n",
      " 'string',\n",
      " 'tabular-data',\n",
      " 'time',\n",
      " 'url',\n",
      " 'wikibase-item',\n",
      " 'wikibase-property'}\n"
     ]
    }
   ],
   "source": [
    "datatypes = set(s['datatype'] for s in mainsnaks if 'datatype' in s.keys())\n",
    "pprint(datatypes)"
   ]
  },
  {
   "cell_type": "markdown",
   "metadata": {},
   "source": [
    "#### Datavalue"
   ]
  },
  {
   "cell_type": "code",
   "execution_count": 18,
   "metadata": {},
   "outputs": [
    {
     "name": "stdout",
     "output_type": "stream",
     "text": [
      "Campione: 11493\n",
      "Union:\t\t{'type', 'value'}\n",
      "Intersection:\t{'type', 'value'}\n",
      "Difference\tset()\n"
     ]
    }
   ],
   "source": [
    "datavalues = [s['datavalue'] for s in mainsnaks if 'datavalue' in s.keys()]\n",
    "print(\"Campione:\", len(datavalues))\n",
    "keys = dict_list_keys(datavalues)"
   ]
  },
  {
   "cell_type": "markdown",
   "metadata": {},
   "source": [
    "##### type"
   ]
  },
  {
   "cell_type": "code",
   "execution_count": 24,
   "metadata": {},
   "outputs": [
    {
     "name": "stdout",
     "output_type": "stream",
     "text": [
      "Campione: 6\n",
      "{'globecoordinate', 'string', 'monolingualtext', 'wikibase-entityid', 'time', 'quantity'}\n"
     ]
    }
   ],
   "source": [
    "types = set(d['type'] for d in datavalues)\n",
    "print(\"Campione:\", len(types))\n",
    "print(types)"
   ]
  },
  {
   "cell_type": "markdown",
   "metadata": {},
   "source": [
    "##### Value\n",
    "###### wikibase-entityid"
   ]
  },
  {
   "cell_type": "code",
   "execution_count": 37,
   "metadata": {},
   "outputs": [
    {
     "name": "stdout",
     "output_type": "stream",
     "text": [
      "Campione: 5067\n",
      "Union:\t\t{'numeric-id', 'entity-type'}\n",
      "Intersection:\t{'entity-type', 'numeric-id'}\n",
      "Difference\tset()\n",
      "item\n"
     ]
    }
   ],
   "source": [
    "values = [d['value'] for d in datavalues if d['type'] == 'wikibase-entityid']\n",
    "print(\"Campione:\", len(values))\n",
    "keys = dict_list_keys(values)\n",
    "print(values[1000]['entity-type'])"
   ]
  }
 ],
 "metadata": {
  "kernelspec": {
   "display_name": "Python 3",
   "language": "python",
   "name": "python3"
  },
  "language_info": {
   "codemirror_mode": {
    "name": "ipython",
    "version": 3
   },
   "file_extension": ".py",
   "mimetype": "text/x-python",
   "name": "python",
   "nbconvert_exporter": "python",
   "pygments_lexer": "ipython3",
   "version": "3.7.2"
  }
 },
 "nbformat": 4,
 "nbformat_minor": 2
}
