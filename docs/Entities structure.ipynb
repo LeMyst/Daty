{
 "cells": [
  {
   "cell_type": "code",
   "execution_count": 24,
   "metadata": {},
   "outputs": [],
   "source": [
    "from copy import deepcopy\n",
    "from daty.wikidata import Wikidata\n",
    "from itertools import chain\n",
    "from pprint import pprint\n",
    "from random import randint\n",
    "wikidata = Wikidata()"
   ]
  },
  {
   "cell_type": "markdown",
   "metadata": {},
   "source": [
    "## Tools"
   ]
  },
  {
   "cell_type": "code",
   "execution_count": 27,
   "metadata": {},
   "outputs": [],
   "source": [
    "def pick_items(N, random=False, verbose=True):\n",
    "    f = lambda x: randint(1,50000000) if random else x\n",
    "    entities = []\n",
    "    for i in range(1,N):\n",
    "        try:\n",
    "            entities.append(wikidata.download('Q' + str(f(i))))\n",
    "        except Exception as e:\n",
    "            if verbose:\n",
    "                print(e)\n",
    "    return entities\n",
    "\n",
    "def dict_list_union_keys(dict_list):\n",
    "    keys = set()\n",
    "    for d in dict_list:\n",
    "        keys = keys.union(set(d.keys()))\n",
    "    return keys\n",
    "\n",
    "def dict_list_keys(dict_list):\n",
    "    all_keys = dict_list_union_keys(dict_list)\n",
    "    common_keys = deepcopy(all_keys)\n",
    "    for d in dict_list:\n",
    "        common_keys = common_keys.intersection(set(d.keys()))\n",
    "    diff_keys = all_keys.difference(common_keys)\n",
    "    return all_keys, common_keys, diff_keys\n",
    "\n",
    "def describe_dict_list(dict_list):\n",
    "    all_keys, common_keys, diff_keys = dict_list_keys(dict_list)\n",
    "    print(\"The\")"
   ]
  },
  {
   "cell_type": "markdown",
   "metadata": {},
   "source": [
    "# Item structure\n",
    "\n",
    "Let's put lots of entities (`dict`) into `entities`:"
   ]
  },
  {
   "cell_type": "code",
   "execution_count": 3,
   "metadata": {
    "scrolled": false
   },
   "outputs": [
    {
     "name": "stdout",
     "output_type": "stream",
     "text": [
      "Page [[wikidata:Q6]] doesn't exist.\n",
      "Page [[wikidata:Q7]] doesn't exist.\n",
      "Page [[wikidata:Q9]] doesn't exist.\n",
      "Page [[wikidata:Q10]] doesn't exist.\n",
      "Page [[wikidata:Q11]] doesn't exist.\n",
      "Page [[wikidata:Q12]] doesn't exist.\n",
      "Page [[wikidata:Q14]] doesn't exist.\n",
      "Page [[wikidata:Q47]] doesn't exist.\n",
      "Page [[wikidata:Q50]] doesn't exist.\n",
      "Page [[wikidata:Q63]] doesn't exist.\n",
      "Page [[wikidata:Q92]] doesn't exist.\n",
      "Page [[wikidata:Q93]] doesn't exist.\n",
      "We have 87 entities\n"
     ]
    }
   ],
   "source": [
    "entities = pick_items(100)\n",
    "print(\"We have\", len(entities), \"entities\")"
   ]
  },
  {
   "cell_type": "markdown",
   "metadata": {},
   "source": [
    "Their keys are `labels`, `aliases`, `claims`, `descriptions`, `sitelinks`:"
   ]
  },
  {
   "cell_type": "code",
   "execution_count": 13,
   "metadata": {},
   "outputs": [
    {
     "name": "stdout",
     "output_type": "stream",
     "text": [
      "{'claims', 'sitelinks', 'aliases', 'descriptions', 'labels'}\n"
     ]
    }
   ],
   "source": [
    "entities_keys = dict_list_keys(entities)\n",
    "pprint(entities_keys)"
   ]
  },
  {
   "cell_type": "markdown",
   "metadata": {},
   "source": [
    "Let's see if there are cases when some of the above keys are not present:"
   ]
  },
  {
   "cell_type": "code",
   "execution_count": 14,
   "metadata": {
    "scrolled": true
   },
   "outputs": [
    {
     "name": "stdout",
     "output_type": "stream",
     "text": [
      "{'claims', 'sitelinks', 'aliases', 'descriptions', 'labels'}\n"
     ]
    }
   ],
   "source": [
    "entities_keys_intersection = dict_list_intersection_keys(entities)\n",
    "pprint(entities_keys_intersection)"
   ]
  },
  {
   "cell_type": "markdown",
   "metadata": {},
   "source": [
    "## Claim\n",
    "\n",
    "Let's group claims (`dict`) from `entities`; claims of an entity are grouped by property; claims have to be converted into JSONs to be read:"
   ]
  },
  {
   "cell_type": "code",
   "execution_count": 15,
   "metadata": {},
   "outputs": [
    {
     "name": "stdout",
     "output_type": "stream",
     "text": [
      "We have 22439 claims\n"
     ]
    }
   ],
   "source": [
    "entities_claims = []\n",
    "for e in entities:\n",
    "    for P in e['claims'].keys():\n",
    "        claims = (c.toJSON() for c in e['claims'][P])\n",
    "        entities_claims.append(claims)\n",
    "entities_claims = list(chain.from_iterable(entities_claims))\n",
    "print(\"We have\", len(entities_claims), \"claims\")"
   ]
  },
  {
   "cell_type": "markdown",
   "metadata": {},
   "source": [
    "The keys `id`, `type`, `rank` and `mainsnak` are always present."
   ]
  },
  {
   "cell_type": "code",
   "execution_count": 16,
   "metadata": {},
   "outputs": [
    {
     "name": "stdout",
     "output_type": "stream",
     "text": [
      "{'id',\n",
      " 'mainsnak',\n",
      " 'qualifiers',\n",
      " 'qualifiers-order',\n",
      " 'rank',\n",
      " 'references',\n",
      " 'type'}\n"
     ]
    }
   ],
   "source": [
    "claims_keys = dict_list_keys(entities_claims)\n",
    "pprint(claims_keys)"
   ]
  },
  {
   "cell_type": "markdown",
   "metadata": {},
   "source": [
    "while keys `qualifiers`, `qualifiers-order`, `references` are optional"
   ]
  },
  {
   "cell_type": "code",
   "execution_count": 17,
   "metadata": {},
   "outputs": [
    {
     "name": "stdout",
     "output_type": "stream",
     "text": [
      "{'mainsnak', 'type', 'id', 'rank'}\n"
     ]
    }
   ],
   "source": [
    "claims_keys_intersection = dict_list_intersection_keys(entities_claims)\n",
    "pprint(claims_keys_intersection)"
   ]
  },
  {
   "cell_type": "markdown",
   "metadata": {},
   "source": [
    "### Mainsnak\n",
    "Let's group claims' mainsnaks (`dict`)."
   ]
  },
  {
   "cell_type": "code",
   "execution_count": 18,
   "metadata": {},
   "outputs": [
    {
     "name": "stdout",
     "output_type": "stream",
     "text": [
      "There are 22439 mainsnaks\n"
     ]
    }
   ],
   "source": [
    "mainsnaks = [c['mainsnak'] for c in entities_claims]\n",
    "print(\"There are\", len(mainsnaks), \"mainsnaks\")"
   ]
  },
  {
   "cell_type": "markdown",
   "metadata": {},
   "source": [
    "The keys `property` and `snaktype` are always present,"
   ]
  },
  {
   "cell_type": "code",
   "execution_count": 19,
   "metadata": {},
   "outputs": [
    {
     "name": "stdout",
     "output_type": "stream",
     "text": [
      "{'datatype', 'property', 'snaktype', 'datavalue'}\n"
     ]
    }
   ],
   "source": [
    "mainsnaks_keys = dict_list_keys(mainsnaks)\n",
    "print(mainsnaks_keys)"
   ]
  },
  {
   "cell_type": "markdown",
   "metadata": {},
   "source": [
    "While the keys `datatype` and `datavalue` are optional"
   ]
  },
  {
   "cell_type": "code",
   "execution_count": 20,
   "metadata": {},
   "outputs": [
    {
     "name": "stdout",
     "output_type": "stream",
     "text": [
      "{'property', 'snaktype'}\n"
     ]
    }
   ],
   "source": [
    "mainsnaks_intersection_keys = dict_list_intersection_keys(mainsnaks)\n",
    "print(mainsnaks_intersection_keys)"
   ]
  },
  {
   "cell_type": "markdown",
   "metadata": {},
   "source": [
    "#### Snaktype\n",
    "Let's group snaktypes (`str`):"
   ]
  },
  {
   "cell_type": "code",
   "execution_count": 25,
   "metadata": {},
   "outputs": [
    {
     "name": "stdout",
     "output_type": "stream",
     "text": [
      "{'novalue', 'somevalue', 'value'}\n"
     ]
    }
   ],
   "source": [
    "snaktypes = set(snak['snaktype'] for snak in mainsnaks)\n",
    "print(snaktypes)"
   ]
  },
  {
   "cell_type": "code",
   "execution_count": 26,
   "metadata": {},
   "outputs": [
    {
     "data": {
      "text/plain": [
       "{4}"
      ]
     },
     "execution_count": 26,
     "metadata": {},
     "output_type": "execute_result"
    }
   ],
   "source": [
    "{3,4}.difference({3})"
   ]
  }
 ],
 "metadata": {
  "kernelspec": {
   "display_name": "Python 3",
   "language": "python",
   "name": "python3"
  },
  "language_info": {
   "codemirror_mode": {
    "name": "ipython",
    "version": 3
   },
   "file_extension": ".py",
   "mimetype": "text/x-python",
   "name": "python",
   "nbconvert_exporter": "python",
   "pygments_lexer": "ipython3",
   "version": "3.7.2"
  }
 },
 "nbformat": 4,
 "nbformat_minor": 2
}
